{
 "cells": [
  {
   "cell_type": "markdown",
   "id": "889652ee",
   "metadata": {},
   "source": [
    "### Import Modules/Packages"
   ]
  },
  {
   "cell_type": "code",
   "execution_count": 17,
   "id": "d87fda1a",
   "metadata": {},
   "outputs": [],
   "source": [
    "import pandas as pd\n",
    "import numpy as np"
   ]
  },
  {
   "cell_type": "markdown",
   "id": "a66440d2",
   "metadata": {},
   "source": [
    "### Import Data (Train and Test)"
   ]
  },
  {
   "cell_type": "code",
   "execution_count": 18,
   "id": "83289418",
   "metadata": {
    "scrolled": false
   },
   "outputs": [
    {
     "name": "stdout",
     "output_type": "stream",
     "text": [
      "Train Data Shape:  (1450, 81)\n"
     ]
    }
   ],
   "source": [
    "df_house_train = pd.read_csv(\n",
    "    r\"train.csv\",\n",
    "    low_memory=False,\n",
    ")\n",
    "\n",
    "# drop columns with all NaN values\n",
    "df_house_train.dropna(axis=1, how=\"all\")\n",
    "\n",
    "\n",
    "# limit to only residential properties\n",
    "residential = [\"FV\", \"RH\", \"RL\", \"RP\", \"RM\"]\n",
    "df_house_train = df_house_train[df_house_train[\"MSZoning\"].isin(residential)]\n",
    "print(\"Train Data Shape: \", df_house_train.shape)\n"
   ]
  },
  {
   "cell_type": "code",
   "execution_count": 19,
   "id": "575cfb6a",
   "metadata": {},
   "outputs": [],
   "source": [
    "# Fill missing data with zero\n",
    "\n",
    "def fill_missing_data(df: pd.DataFrame):\n",
    "    for col_ in df.columns:\n",
    "        if df[col_].dtype == \"object\":\n",
    "            # fill 'NONE' for categorical features\n",
    "            df[col_].fillna(\"NONE\", inplace=True)\n",
    "        else:\n",
    "            # fill zero for numerical features\n",
    "            df[col_].fillna(0, inplace=True)\n",
    "\n",
    "\n",
    "fill_missing_data(df_house_train)\n"
   ]
  },
  {
   "cell_type": "code",
   "execution_count": 20,
   "id": "8c0741c0",
   "metadata": {
    "scrolled": true
   },
   "outputs": [],
   "source": [
    "correlation = df_house_train.corr()\n",
    "top_10_corr = correlation.nlargest(11, \"SalePrice\")[\"SalePrice\"].index\n",
    "cm = np.corrcoef(df_house_train[top_10_corr].values.T)\n"
   ]
  },
  {
   "attachments": {},
   "cell_type": "markdown",
   "id": "c7f0b485",
   "metadata": {},
   "source": [
    "#### Building the Models"
   ]
  },
  {
   "cell_type": "code",
   "execution_count": 21,
   "id": "4918a381",
   "metadata": {},
   "outputs": [],
   "source": [
    "from sklearn.model_selection import train_test_split\n",
    "# from sklearn.preprocessing import MinMaxScaler\n"
   ]
  },
  {
   "cell_type": "code",
   "execution_count": 22,
   "id": "f1b0fad8",
   "metadata": {},
   "outputs": [],
   "source": [
    "# Define features to use in model \n",
    "Features = top_10_corr.copy().delete([0])\n"
   ]
  },
  {
   "cell_type": "code",
   "execution_count": 23,
   "id": "9f860d0e",
   "metadata": {},
   "outputs": [],
   "source": [
    "# Create copy of data set\n",
    "train_df = df_house_train.copy()\n",
    "# Filter to rows included in df_house_train set for train \n",
    "train_df = train_df[train_df.Id.isin(df_house_train.Id)]\n",
    "\n",
    "# Set up Train and Validation Sets\n",
    "    # test size = 20%\n",
    "    # random state = 42\n",
    "\n",
    "X_train, X_valid, y_train, y_valid = train_test_split(\n",
    "    train_df[Features], train_df[\"SalePrice\"], test_size=0.2, random_state=42\n",
    ")\n",
    "_, X_valid_with_id, _, _ = train_test_split(\n",
    "    train_df.drop(\"SalePrice\", axis=1),\n",
    "    train_df[\"SalePrice\"],\n",
    "    test_size=0.2,\n",
    "    random_state=42,\n",
    ")\n",
    "# Create copy of comb_df\n",
    "test_df = df_house_train.copy()\n",
    "\n",
    "X_test = test_df[Features]\n"
   ]
  },
  {
   "cell_type": "markdown",
   "id": "b59cb898",
   "metadata": {},
   "source": [
    "#### XGBoost Model"
   ]
  },
  {
   "cell_type": "code",
   "execution_count": 24,
   "id": "7a25ee88",
   "metadata": {},
   "outputs": [],
   "source": [
    "from xgboost import XGBRegressor"
   ]
  },
  {
   "cell_type": "code",
   "execution_count": 25,
   "id": "d6762d01",
   "metadata": {},
   "outputs": [],
   "source": [
    "XGmodel = XGBRegressor(n_estimators=3000, learning_rate=0.005)"
   ]
  },
  {
   "cell_type": "code",
   "execution_count": 26,
   "id": "17bd65af",
   "metadata": {},
   "outputs": [
    {
     "data": {
      "text/plain": [
       "XGBRegressor(base_score=None, booster=None, callbacks=None,\n",
       "             colsample_bylevel=None, colsample_bynode=None,\n",
       "             colsample_bytree=None, early_stopping_rounds=None,\n",
       "             enable_categorical=False, eval_metric=None, feature_types=None,\n",
       "             gamma=None, gpu_id=None, grow_policy=None, importance_type=None,\n",
       "             interaction_constraints=None, learning_rate=0.005, max_bin=None,\n",
       "             max_cat_threshold=None, max_cat_to_onehot=None,\n",
       "             max_delta_step=None, max_depth=None, max_leaves=None,\n",
       "             min_child_weight=None, missing=nan, monotone_constraints=None,\n",
       "             n_estimators=3000, n_jobs=None, num_parallel_tree=None,\n",
       "             predictor=None, random_state=None, ...)"
      ]
     },
     "execution_count": 26,
     "metadata": {},
     "output_type": "execute_result"
    }
   ],
   "source": [
    "XGmodel.fit(X_train,y_train)"
   ]
  },
  {
   "cell_type": "code",
   "execution_count": 27,
   "id": "75c3d753",
   "metadata": {},
   "outputs": [
    {
     "name": "stdout",
     "output_type": "stream",
     "text": [
      "Train Accuracy : 0.9897838709073911\n",
      "Validation Accuracy : 0.8419648622066889\n"
     ]
    }
   ],
   "source": [
    "print(f\"Train Accuracy : {XGmodel.score(X_train,y_train)}\")\n",
    "print(f\"Validation Accuracy : {XGmodel.score(X_valid,y_valid)}\")"
   ]
  },
  {
   "cell_type": "code",
   "execution_count": 28,
   "id": "1bf8b2ce",
   "metadata": {},
   "outputs": [
    {
     "data": {
      "text/html": [
       "<div>\n",
       "<style scoped>\n",
       "    .dataframe tbody tr th:only-of-type {\n",
       "        vertical-align: middle;\n",
       "    }\n",
       "\n",
       "    .dataframe tbody tr th {\n",
       "        vertical-align: top;\n",
       "    }\n",
       "\n",
       "    .dataframe thead th {\n",
       "        text-align: right;\n",
       "    }\n",
       "</style>\n",
       "<table border=\"1\" class=\"dataframe\">\n",
       "  <thead>\n",
       "    <tr style=\"text-align: right;\">\n",
       "      <th></th>\n",
       "      <th>Id</th>\n",
       "      <th>SalePrice</th>\n",
       "    </tr>\n",
       "  </thead>\n",
       "  <tbody>\n",
       "    <tr>\n",
       "      <th>0</th>\n",
       "      <td>1</td>\n",
       "      <td>198742.765625</td>\n",
       "    </tr>\n",
       "    <tr>\n",
       "      <th>1</th>\n",
       "      <td>2</td>\n",
       "      <td>168695.468750</td>\n",
       "    </tr>\n",
       "    <tr>\n",
       "      <th>2</th>\n",
       "      <td>3</td>\n",
       "      <td>218233.843750</td>\n",
       "    </tr>\n",
       "    <tr>\n",
       "      <th>3</th>\n",
       "      <td>4</td>\n",
       "      <td>144132.546875</td>\n",
       "    </tr>\n",
       "    <tr>\n",
       "      <th>4</th>\n",
       "      <td>5</td>\n",
       "      <td>255934.203125</td>\n",
       "    </tr>\n",
       "    <tr>\n",
       "      <th>...</th>\n",
       "      <td>...</td>\n",
       "      <td>...</td>\n",
       "    </tr>\n",
       "    <tr>\n",
       "      <th>1455</th>\n",
       "      <td>1456</td>\n",
       "      <td>177297.015625</td>\n",
       "    </tr>\n",
       "    <tr>\n",
       "      <th>1456</th>\n",
       "      <td>1457</td>\n",
       "      <td>209995.906250</td>\n",
       "    </tr>\n",
       "    <tr>\n",
       "      <th>1457</th>\n",
       "      <td>1458</td>\n",
       "      <td>267713.125000</td>\n",
       "    </tr>\n",
       "    <tr>\n",
       "      <th>1458</th>\n",
       "      <td>1459</td>\n",
       "      <td>138333.468750</td>\n",
       "    </tr>\n",
       "    <tr>\n",
       "      <th>1459</th>\n",
       "      <td>1460</td>\n",
       "      <td>136274.140625</td>\n",
       "    </tr>\n",
       "  </tbody>\n",
       "</table>\n",
       "<p>1450 rows × 2 columns</p>\n",
       "</div>"
      ],
      "text/plain": [
       "        Id      SalePrice\n",
       "0        1  198742.765625\n",
       "1        2  168695.468750\n",
       "2        3  218233.843750\n",
       "3        4  144132.546875\n",
       "4        5  255934.203125\n",
       "...    ...            ...\n",
       "1455  1456  177297.015625\n",
       "1456  1457  209995.906250\n",
       "1457  1458  267713.125000\n",
       "1458  1459  138333.468750\n",
       "1459  1460  136274.140625\n",
       "\n",
       "[1450 rows x 2 columns]"
      ]
     },
     "execution_count": 28,
     "metadata": {},
     "output_type": "execute_result"
    }
   ],
   "source": [
    "XGdata = test_df\n",
    "XGdata[\"SalePrice\"] = XGmodel.predict(X_test)\n",
    "XGdata = XGdata[[\"Id\", \"SalePrice\"]]\n",
    "XGdata\n"
   ]
  },
  {
   "cell_type": "code",
   "execution_count": 29,
   "id": "42f5ed6a",
   "metadata": {},
   "outputs": [],
   "source": [
    "# Used for UI\n",
    "import pickle\n",
    "# Save the XGmodel to a file\n",
    "with open('xgboost_model.pkl', 'wb') as file:\n",
    "    pickle.dump(XGmodel, file)"
   ]
  },
  {
   "cell_type": "markdown",
   "id": "2d337b98",
   "metadata": {},
   "source": []
  }
 ],
 "metadata": {
  "kernelspec": {
   "display_name": "Python 3 (ipykernel)",
   "language": "python",
   "name": "python3"
  },
  "language_info": {
   "codemirror_mode": {
    "name": "ipython",
    "version": 3
   },
   "file_extension": ".py",
   "mimetype": "text/x-python",
   "name": "python",
   "nbconvert_exporter": "python",
   "pygments_lexer": "ipython3",
   "version": "3.9.13"
  },
  "vscode": {
   "interpreter": {
    "hash": "43f221103f953d3e0d93840edd77be981e5a5e0e42edc048e3de5278c46a3390"
   }
  }
 },
 "nbformat": 4,
 "nbformat_minor": 5
}
